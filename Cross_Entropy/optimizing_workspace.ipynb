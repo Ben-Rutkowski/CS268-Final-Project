{
 "cells": [
  {
   "cell_type": "code",
   "execution_count": 188,
   "metadata": {},
   "outputs": [
    {
     "data": {
      "text/plain": [
       "crossEntropy (generic function with 8 methods)"
      ]
     },
     "metadata": {},
     "output_type": "display_data"
    }
   ],
   "source": [
    "include(\"/Users/benjaminrutkowski/School Code Projects/CS268-Final-Project/MODEL_TWO/objective_function.jl\")\n",
    "include(\"/Users/benjaminrutkowski/School Code Projects/CS268-Final-Project/Cross_Entropy/cross_entropy.jl\")\n",
    "# include(\"/Users/benjaminrutkowski/School Code Projects/CS268-Final-Project/Cross_Entropy/simplex_algorithm.jl\")"
   ]
  },
  {
   "cell_type": "code",
   "execution_count": 189,
   "metadata": {},
   "outputs": [
    {
     "data": {
      "text/plain": [
       "DemandSystem([1.0, 1.0, 1.0, 2.0, 2.0, 1.0, 2.0, 2.0, 3.0, 1.0, 5.0, 4.0, 6.0, 2.0, 2.0, 6.0], [4, 5, 10, 8, 2, 4, 2, 1], 10, 5, 0.5, 1.0, 6.0, 1.0, 6.0, 10.0)"
      ]
     },
     "metadata": {},
     "output_type": "display_data"
    }
   ],
   "source": [
    "# ================ TEST MODEL ================\n",
    "using Distributions\n",
    "using LinearAlgebra\n",
    "Nodes = [\n",
    "    1.0, 1.0, \n",
    "    1.0, 2.0, \n",
    "    2.0, 1.0, \n",
    "    2.0, 2.0,\n",
    "\n",
    "    3.0, 1.0,\n",
    "    5.0, 4.0,\n",
    "    6.0, 2.0,\n",
    "    2.0, 6.0\n",
    "];\n",
    "\n",
    "F = [4, 5, 10, 8, 2, 4, 2, 1];\n",
    "# F = [4, 5, 10, 8];\n",
    "c, f = 10, 5\n",
    "\n",
    "sys = DemandSystem(Nodes, F, c, f)"
   ]
  },
  {
   "cell_type": "code",
   "execution_count": 226,
   "metadata": {},
   "outputs": [
    {
     "data": {
      "text/plain": [
       "(149.14009823569353, 26.128006551254394)"
      ]
     },
     "metadata": {},
     "output_type": "display_data"
    }
   ],
   "source": [
    "dist = initialDistribution(sys, 3)\n",
    "\n",
    "func = x -> costFunc(sys, x) + 10*quadPenalty(sys, x)\n",
    "x_elite, x_push = crossEntropy(sys, func, dist, 50, 100, 10, 3)\n",
    "x_push\n",
    "\n",
    "costFunc(sys, x_push), quadPenalty(sys, x_push)"
   ]
  },
  {
   "cell_type": "code",
   "execution_count": 191,
   "metadata": {},
   "outputs": [],
   "source": []
  },
  {
   "cell_type": "code",
   "execution_count": 192,
   "metadata": {},
   "outputs": [
    {
     "ename": "UndefVarError",
     "evalue": "UndefVarError: `x` not defined",
     "output_type": "error",
     "traceback": [
      "UndefVarError: `x` not defined\n",
      "\n",
      "Stacktrace:\n",
      " [1] top-level scope\n",
      "   @ ~/School Code Projects/CS268-Final-Project/Cross_Entropy/optimizing_workspace.ipynb:5"
     ]
    }
   ],
   "source": [
    "using Distributions\n",
    "\n",
    "mean1 = [1.0, 3.0, 5.0]\n",
    "mean2 = [3.2, 4.1, 4.0]\n",
    "mean3 = x\n",
    "cov1 = 100*I(3)\n",
    "cov2 = 100*I(3)\n",
    "cov3  = 100.0*I(7)\n",
    "norms = [MvNormal(mean1, cov1), MvNormal(mean2, cov2)]\n",
    "norm3 = MvNormal(mean3, cov3)\n",
    "bi = Normal(2, 1)\n",
    "\n",
    "# split = SplitDist(norms, bi)\n",
    "full = MultiNormal(norm3)\n",
    "# samp = sample(split, 10)\n",
    "func = x -> costFunc(sys, x) + quadPenalty(sys, x)\n",
    "\n",
    "k_max = 1\n",
    "m = 100\n",
    "m_elite = 10\n",
    "B_FIX = 2\n",
    "P = full\n",
    "\n",
    "# for k = 1:k_max\n",
    "    k = 1\n",
    "    x = sample(P, m, B_FIX)\n",
    "\n",
    "    order = sortperm( [func(x[:,i]) for i in 1:m] )\n",
    "\n",
    "    # recalc!(P, x[:,order[1:m_elite]])\n",
    "# end\n",
    "\n",
    "X = x[:,order[1:m_elite]];"
   ]
  }
 ],
 "metadata": {
  "kernelspec": {
   "display_name": "Julia 1.9.3",
   "language": "julia",
   "name": "julia-1.9"
  },
  "language_info": {
   "file_extension": ".jl",
   "mimetype": "application/julia",
   "name": "julia",
   "version": "1.9.3"
  }
 },
 "nbformat": 4,
 "nbformat_minor": 2
}
