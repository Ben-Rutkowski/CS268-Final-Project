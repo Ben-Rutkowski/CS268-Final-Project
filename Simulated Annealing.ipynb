{
 "cells": [
  {
   "cell_type": "code",
   "execution_count": 9,
   "metadata": {},
   "outputs": [
    {
     "data": {
      "text/plain": [
       "readVariable (generic function with 1 method)"
      ]
     },
     "execution_count": 9,
     "metadata": {},
     "output_type": "execute_result"
    }
   ],
   "source": [
    "# ================ Demand System ================\n",
    "mutable struct DemandSystem\n",
    "    Nodes # 2N length vector of xy-coords per node\n",
    "    F     # N length vector of demand per node\n",
    "\n",
    "    function DemandSystem(Nodes_in, F_in)\n",
    "        new(Nodes_in, F_in)\n",
    "    end\n",
    "end\n",
    "\n",
    "# --- Gets the coordinates of the ith node ---\n",
    "function nCrd(M::DemandSystem, i)\n",
    "    return M.Nodes[Int(2*i-1)], M.Nodes[Int(2*i)]\n",
    "end\n",
    "\n",
    "# --- Gets the demand of the ith node ---\n",
    "function nDmd(M::DemandSystem, i)\n",
    "    return M.F[Int(i)]\n",
    "end\n",
    "\n",
    "\n",
    "# ================ Design Variable ================\n",
    "# --- Gets the coordinates of the kth station ---\n",
    "function sCrd(x, k)\n",
    "    return x[Int(4*k)-3], x[Int(4*k)-2]\n",
    "end\n",
    "\n",
    "# --- Gets the capacity of the kth station ---\n",
    "function sCap(x, k)\n",
    "    return x[Int(4*k)-1]\n",
    "end\n",
    "\n",
    "# --- Gets the building boolean of the kth station ---\n",
    "function sB(x, k)\n",
    "    return x[Int(4*k)]\n",
    "end\n",
    "\n",
    "\n",
    "# ================ Objective Function ================\n",
    "# --- OBJECTIVE FUNCTION: Total cost of all stations ---\n",
    "function cost(x, c, f)\n",
    "    sz, sb = NaN, NaN\n",
    "    sum = 0\n",
    "\n",
    "    M = floor(length(x)/4)\n",
    "    for k = 1:M\n",
    "        sz = sCap(x, k)\n",
    "        sb = sB(x, k)\n",
    "\n",
    "        sum += (c + f*sz)*sb\n",
    "    end\n",
    "    return sum\n",
    "end\n",
    "\n",
    "\n",
    "# ================ Constraint Functions ================\n",
    "# --- Squared distance between a node and a station ---\n",
    "function i_kDist(nu, nv, sx, sy)\n",
    "    return (nu-sx)*(nu-sx) + (nv-sy)*(nv-sy)\n",
    "end\n",
    "\n",
    "# --- INEQUALITY CONSTRAINT i: The ith node's demand is met by the stations ---\n",
    "#       (  There are N constraints of this form. One for each i = 1,...,N  )\n",
    "#       (  In the form of g_i(x) <= 0  )\n",
    "function nodeConstraint_i(M::DemandSystem, x, i)\n",
    "    nx, ny = nCrd(M, i)\n",
    "    F = nDmd(M, i)\n",
    "    sum = 0\n",
    "\n",
    "    M = length(x)/4\n",
    "    for k = 1:M\n",
    "        sx, sy = sCrd(x, k)\n",
    "        sz     = sCap(x, k)\n",
    "        sb     = sB(x, k)\n",
    "        dist = i_kDist(nx, ny, sx, sy)\n",
    "\n",
    "        sum += (sz/dist)*sb\n",
    "    end\n",
    "\n",
    "    return F - sum\n",
    "end \n",
    "\n",
    "# --- EQUALITY CONSTRAINT k: The kth station's b_k is a boolean --\n",
    "#       (  There are M constraints of this form. One for each k = 1,...,M  )\n",
    "#       (  In the form of h_k(x) = 0  )\n",
    "function stationConstraint_k(x, k)\n",
    "    sb = sB(x, k)\n",
    "    return sb*sb - sb\n",
    "end\n",
    "\n",
    "\n",
    "# ================ Reading Data ================\n",
    "# --- Takes a design variable and interprates it into meaningful data ---\n",
    "#       (  Returns list of coordinates and capacity for built stations only  )\n",
    "#       (  Returns [ (x,y,z), ..., (x,y,z) ] for built stations only  )\n",
    "function readVariable(x)\n",
    "    TOL = 1e-3\n",
    "    \n",
    "    result = []\n",
    "    M = length(x)/4\n",
    "    for k = 1:M\n",
    "        sx, sy = sCrd(x, k)\n",
    "        sz = sCap(x, k)\n",
    "        sb = sB(x, k)\n",
    "\n",
    "        if (abs(sb-1) <= TOL)\n",
    "            push!(result, (sx, sy, sz))\n",
    "        end\n",
    "    end\n",
    "\n",
    "    return result\n",
    "end"
   ]
  },
  {
   "cell_type": "code",
   "execution_count": 2,
   "metadata": {},
   "outputs": [
    {
     "data": {
      "text/plain": [
       "10"
      ]
     },
     "execution_count": 2,
     "metadata": {},
     "output_type": "execute_result"
    }
   ],
   "source": [
    "\n",
    "function simulated_annealing(f, x, T, t, k_max) \n",
    "    # optimization method used = Simulated Annealing\n",
    "    # source(s) of code = Kochenderfer & Wheeler Textbook, Algorithm 8.4, page 130\n",
    "    y = f(x)\n",
    "    x_best, y_best = x, y\n",
    "    count = 1\n",
    "    convergence = -1\n",
    "    for k in 1 : k_max\n",
    "        x′ = x .+ rand(T)\n",
    "        for i in 1:T/4\n",
    "            x′[Int(4*i)] = rand(0:1)\n",
    "#             x′[Int(4*i)] = 1\n",
    "            x'[Int(4*i-1)] = round(x'[Int(4*i-1)])\n",
    "        end\n",
    "        y′ = f(x′)\n",
    "        Δy = y′ - y\n",
    "        convergence = abs(Δy)     #compute convergence measure\n",
    "        if Δy ≤ 0 || rand() < exp(-Δy/t(k))\n",
    "            x, y = x′, y′ \n",
    "        end\n",
    "        if y′ < y_best\n",
    "            x_best, y_best = x′, y′ \n",
    "        end\n",
    "        count += 1     # update number of function evaluations\n",
    "    end\n",
    "    return x_best, count, convergence\n",
    "end\n",
    "\n",
    "# Temperature scheduling (exponential annealing scheduling)\n",
    "𝛄 = 0.9\n",
    "t(k) = t0*(𝛄^(k-1))\n",
    "t0 = 10"
   ]
  },
  {
   "cell_type": "code",
   "execution_count": 3,
   "metadata": {},
   "outputs": [
    {
     "data": {
      "text/plain": [
       "penalty_method (generic function with 1 method)"
      ]
     },
     "execution_count": 3,
     "metadata": {},
     "output_type": "execute_result"
    }
   ],
   "source": [
    "\n",
    "function simple_penalty(x, M, max_station)\n",
    "    # simple penalty function: counts number of constraint equations violated\n",
    "    gi_violated = 0\n",
    "    hk_violated = 0\n",
    "    for i in 1:length(x)/4\n",
    "        nodeConstraint_i(M, x, i)>0 ? gi_violated+=1 : continue\n",
    "    end\n",
    "        \n",
    "    return gi_violated \n",
    "end\n",
    "\n",
    "function quadratic_penalty(x, M, max_station)\n",
    "    # quadratic penalty function\n",
    "    gi_violated = 0\n",
    "    hk_violated = 0\n",
    "    for i in 1:length(x)/4\n",
    "        gi_violated += max(nodeConstraint_i(M, x, i),0)^2\n",
    "    end\n",
    "        \n",
    "    return gi_violated\n",
    "end\n",
    "\n",
    "\n",
    "function penalty_method(f, p1, p2, x, k_max, c, f_cost, M, max_station; ρ1=3, ρ2=2, γ=3, max_iter=2000) \n",
    "    # source of code: Kochenderfer & Wheeler Textbook Algorithm 10.1, page 181\n",
    "    convergence = -1\n",
    "    x_new = x\n",
    "    start = time()\n",
    "    num_eval = 0\n",
    "    for k in 1 : k_max\n",
    "        \n",
    "        x_new, count = simulated_annealing(x -> f(x, c, f_cost) + ρ1*p1(x, M, max_station) + ρ2*p2(x, M, max_station), x, T, t, max_iter) \n",
    "        num_eval += count\n",
    "        ρ1 *= γ\n",
    "        ρ2 *= γ\n",
    "        convergence = f(x_new, c, f_cost) - f(x, c, f_cost) \n",
    "        if p1(x_new, M, max_station)+p2(x_new, M, max_station) == 0\n",
    "            return x_new, num_eval, time()-start, convergence \n",
    "        end\n",
    "        x = x_new\n",
    "    end\n",
    "    return x, num_eval, time()-start, abs(convergence)\n",
    "end"
   ]
  },
  {
   "cell_type": "code",
   "execution_count": 4,
   "metadata": {},
   "outputs": [
    {
     "data": {
      "text/plain": [
       "8"
      ]
     },
     "execution_count": 4,
     "metadata": {},
     "output_type": "execute_result"
    }
   ],
   "source": [
    "# ================ TEST MODEL ================\n",
    "using Distributions\n",
    "using LinearAlgebra\n",
    "Nodes = [\n",
    "    1.0, 1.0, \n",
    "    1.0, 2.0, \n",
    "    2.0, 1.0, \n",
    "    2.0, 2.0];\n",
    "\n",
    "F     = [4, 4, 4, 4];\n",
    "c, f_cost = 10, 5\n",
    "\n",
    "sys = DemandSystem(Nodes, F)\n",
    "\n",
    "x = [\n",
    "    0, 0, 2, 1,\n",
    "    0, 0, 2, 1\n",
    "]\n",
    "T=8\n"
   ]
  },
  {
   "cell_type": "code",
   "execution_count": 10,
   "metadata": {},
   "outputs": [
    {
     "data": {
      "text/plain": [
       "([0.6998858616706974, 0.1371405775667448, 3.0, 0.0, 0.740621034955633, 1.589913549634368, 3.0, 1.0], 2001, 0.5003480911254883, -15.0)"
      ]
     },
     "execution_count": 10,
     "metadata": {},
     "output_type": "execute_result"
    }
   ],
   "source": [
    "k_max = 1000\n",
    "x, num_eval, comp_time, convergence = penalty_method(cost, simple_penalty, quadratic_penalty, \n",
    "                                                x, k_max, c, f_cost, sys, max_station)"
   ]
  },
  {
   "cell_type": "code",
   "execution_count": 11,
   "metadata": {},
   "outputs": [
    {
     "data": {
      "text/plain": [
       "([0.6998858616706974, 0.1371405775667448, 3.0, 0.0, 0.740621034955633, 1.589913549634368, 3.0, 1.0], 2001, 0.09184098243713379, 0.0)"
      ]
     },
     "execution_count": 11,
     "metadata": {},
     "output_type": "execute_result"
    }
   ],
   "source": [
    "# x = [1,2,3,4,5,6,7,8]\n",
    "# c = 5\n",
    "# f_cost = 20\n",
    "k_max = 3000\n",
    "# N = 4\n",
    "max_station = 2\n",
    "x, num_eval, comp_time, convergence = penalty_method(cost, simple_penalty, quadratic_penalty, x, k_max, c, f_cost, sys, max_station)\n",
    "# Int(3.0)"
   ]
  },
  {
   "cell_type": "code",
   "execution_count": 14,
   "metadata": {},
   "outputs": [
    {
     "name": "stdout",
     "output_type": "stream",
     "text": [
      "25.0\n",
      "-3.224120873501426\n",
      "-8.741648318494724\n"
     ]
    }
   ],
   "source": [
    "println(cost(x,c,f_cost))\n",
    "println(nodeConstraint_i(sys, x, 1))\n",
    "println(nodeConstraint_i(sys, x, 2))"
   ]
  },
  {
   "cell_type": "code",
   "execution_count": null,
   "metadata": {},
   "outputs": [],
   "source": []
  },
  {
   "cell_type": "code",
   "execution_count": 15,
   "metadata": {},
   "outputs": [],
   "source": [
    "using CSV \n",
    " \n",
    "Nodes = Array{Float64}(undef, 144)\n",
    "F = Array{Float64}(undef, 72)\n",
    "\n",
    "# reading the csv file \n",
    "csv_reader = CSV.File(\"/Users/briannagautama/Downloads/CS268_EVDemand_xy_normalized.csv\")\n",
    "\n",
    "count = 1\n",
    "for row in csv_reader\n",
    "    Nodes[2*count-1] = row.x\n",
    "    Nodes[2*count] = row.y\n",
    "    F[count] = row.EV_Demand\n",
    "    count += 1\n",
    "end"
   ]
  },
  {
   "cell_type": "code",
   "execution_count": null,
   "metadata": {},
   "outputs": [],
   "source": []
  }
 ],
 "metadata": {
  "kernelspec": {
   "display_name": "Julia 1.9.3",
   "language": "julia",
   "name": "julia-1.9"
  },
  "language_info": {
   "file_extension": ".jl",
   "mimetype": "application/julia",
   "name": "julia",
   "version": "1.9.3"
  }
 },
 "nbformat": 4,
 "nbformat_minor": 5
}
