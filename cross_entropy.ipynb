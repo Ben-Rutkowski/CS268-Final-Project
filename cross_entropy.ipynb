{
 "cells": [
  {
   "cell_type": "code",
   "execution_count": 263,
   "metadata": {},
   "outputs": [],
   "source": [
    "include(\"/Users/benjaminrutkowski/School Code Projects/CS268-Final-Project/Cross_Entropy/cross_entropy.jl\")\n",
    "\n",
    "# ================ TEST MODEL ================\n",
    "using Distributions\n",
    "using LinearAlgebra\n",
    "Nodes = [\n",
    "    1.0, 1.0, \n",
    "    1.0, 2.0, \n",
    "    2.0, 1.0, \n",
    "    2.0, 2.0,\n",
    "\n",
    "    3.0, 1.0,\n",
    "    5.0, 4.0,\n",
    "    6.0, 2.0,\n",
    "    2.0, 6.0\n",
    "];\n",
    "\n",
    "F = [4, 5, 10, 8, 2, 4, 2, 1];\n",
    "# F = [4, 5, 10, 8];\n",
    "c, f = 10, 5\n",
    "\n",
    "sys = DemandSystem(Nodes, F, c, f, 0.5);"
   ]
  },
  {
   "cell_type": "code",
   "execution_count": 264,
   "metadata": {},
   "outputs": [
    {
     "data": {
      "text/plain": [
       "10-element Vector{Float64}:\n",
       "  2.1615808764351137\n",
       "  1.2727516109149843\n",
       " 10.486184952762404\n",
       "  4.057478279738947\n",
       "  4.683597162353927\n",
       "  1.4924933349405793\n",
       "  5.615931344859311\n",
       "  3.1878775822784102\n",
       "  2.293233190208072\n",
       "  3.0"
      ]
     },
     "metadata": {},
     "output_type": "display_data"
    }
   ],
   "source": [
    "func = x -> costFunc(sys, x) + 10*quadPenalty(sys, x)\n",
    "# x_elite, x_push = crossEntropy(sys, func, 3, 10, 100, 10, 3)\n",
    "x_legal, x_legalpush = crossEntropy(sys, func, 3, 10, 100, 10, 3)\n",
    "\n",
    "# x_push\n",
    "x_legal"
   ]
  }
 ],
 "metadata": {
  "kernelspec": {
   "display_name": "Julia 1.9.3",
   "language": "julia",
   "name": "julia-1.9"
  },
  "language_info": {
   "file_extension": ".jl",
   "mimetype": "application/julia",
   "name": "julia",
   "version": "1.9.3"
  }
 },
 "nbformat": 4,
 "nbformat_minor": 2
}
