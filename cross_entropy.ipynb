{
 "cells": [
  {
   "cell_type": "code",
   "execution_count": 30,
   "metadata": {},
   "outputs": [
    {
     "data": {
      "text/plain": [
       "crossEntropy (generic function with 4 methods)"
      ]
     },
     "metadata": {},
     "output_type": "display_data"
    }
   ],
   "source": [
    "include(\"/Users/benjaminrutkowski/School Code Projects/CS268-Final-Project/Cross_Entropy/cross_entropy.jl\")"
   ]
  },
  {
   "cell_type": "code",
   "execution_count": 31,
   "metadata": {},
   "outputs": [],
   "source": [
    "# ================ TEST MODEL ================\n",
    "using Distributions\n",
    "using LinearAlgebra\n",
    "Nodes = [\n",
    "    1.0, 1.0, \n",
    "    1.0, 2.0, \n",
    "    2.0, 1.0, \n",
    "    2.0, 2.0,\n",
    "\n",
    "    3.0, 1.0,\n",
    "    5.0, 4.0,\n",
    "    6.0, 2.0,\n",
    "    2.0, 6.0\n",
    "];\n",
    "\n",
    "F = [4, 5, 10, 8, 2, 4, 2, 1];\n",
    "# F = [4, 5, 10, 8];\n",
    "c, f = 10, 5\n",
    "\n",
    "sys = DemandSystem(Nodes, F, c, f, 0.5);"
   ]
  },
  {
   "cell_type": "code",
   "execution_count": 32,
   "metadata": {},
   "outputs": [
    {
     "data": {
      "text/plain": [
       "10-element Vector{Float64}:\n",
       "  1.9706440140628194\n",
       "  1.100314211433621\n",
       " 10.112474691998626\n",
       "  3.3365898340673734\n",
       "  3.8008682902252553\n",
       "  0.0\n",
       "  3.956531085838718\n",
       "  3.3030004554124908\n",
       "  4.930606534939368\n",
       "  3.0"
      ]
     },
     "metadata": {},
     "output_type": "display_data"
    }
   ],
   "source": [
    "func = x -> costFunc(sys, x) + 5*quadPenalty(sys, x)\n",
    "\n",
    "l, p = crossEntropy(sys, func, 3, 10, 3)\n",
    "p\n"
   ]
  },
  {
   "cell_type": "code",
   "execution_count": 69,
   "metadata": {},
   "outputs": [
    {
     "name": "stdout",
     "output_type": "stream",
     "text": [
      "305.96387486142015 10.84244765791203\n"
     ]
    },
    {
     "data": {
      "text/plain": [
       "10-element Vector{Float64}:\n",
       "  3.2620086254513194\n",
       "  3.026973532481462\n",
       " 11.874420570099998\n",
       "  5.847721597211269\n",
       "  9.815457521026017\n",
       "  0.1\n",
       "  7.024887191499606\n",
       "  5.433406575946949\n",
       " 13.567428505494167\n",
       "  3.0"
      ]
     },
     "metadata": {},
     "output_type": "display_data"
    }
   ],
   "source": [
    "# ================ GENERATING MODEL ================\n",
    "using Random\n",
    "Random.seed!(10)\n",
    "\n",
    "N = 8    # Number of nodes\n",
    "c = 15.0 # Initial cost \n",
    "f = 10.0 # Scaling cost\n",
    "\n",
    "Nodes = rand(Uniform(0.0, 10.0), 2*N)\n",
    "F     = rand(Uniform(0.0, 5.0), N)\n",
    "\n",
    "sys = DemandSystem(Nodes, F, c, f, 0.5)\n",
    "\n",
    "# ================ TESTING THE CROSS ENTROPY METHOD ================\n",
    "func = x -> costFunc(sys, x) + 10*quadPenalty(sys, x)\n",
    "\n",
    "Random.seed!()\n",
    "\n",
    "l, p = crossEntropy(sys, func, 3, 10, 3)\n",
    "println(costFunc(sys,p), \" \", quadPenalty(sys, p))\n",
    "\n",
    "p"
   ]
  },
  {
   "cell_type": "code",
   "execution_count": 34,
   "metadata": {},
   "outputs": [
    {
     "data": {
      "text/plain": [
       "crossEntropy (generic function with 4 methods)"
      ]
     },
     "metadata": {},
     "output_type": "display_data"
    }
   ],
   "source": [
    "include(\"/Users/benjaminrutkowski/School Code Projects/CS268-Final-Project/Cross_Entropy/cross_entropy.jl\")\n",
    "\n",
    "# pushToFeasible(sys, l)"
   ]
  }
 ],
 "metadata": {
  "kernelspec": {
   "display_name": "Julia 1.9.3",
   "language": "julia",
   "name": "julia-1.9"
  },
  "language_info": {
   "file_extension": ".jl",
   "mimetype": "application/julia",
   "name": "julia",
   "version": "1.9.3"
  }
 },
 "nbformat": 4,
 "nbformat_minor": 2
}
