{
 "cells": [
  {
   "cell_type": "code",
   "execution_count": 54,
   "metadata": {},
   "outputs": [],
   "source": [
    "include(\"/Users/benjaminrutkowski/School Code Projects/CS268-Final-Project/Cross_Entropy/cross_entropy.jl\")\n",
    "\n",
    "# ================ TEST MODEL ================\n",
    "using Distributions\n",
    "using LinearAlgebra\n",
    "Nodes = [\n",
    "    1.0, 1.0, \n",
    "    1.0, 2.0, \n",
    "    2.0, 1.0, \n",
    "    2.0, 2.0,\n",
    "\n",
    "    3.0, 1.0,\n",
    "    5.0, 4.0,\n",
    "    6.0, 2.0,\n",
    "    2.0, 6.0\n",
    "];\n",
    "\n",
    "F = [4, 5, 10, 8, 2, 4, 2, 1];\n",
    "# F = [4, 5, 10, 8];\n",
    "c, f = 10, 5\n",
    "\n",
    "sys = DemandSystem(Nodes, F, c, f, 0.5);"
   ]
  },
  {
   "cell_type": "code",
   "execution_count": 86,
   "metadata": {},
   "outputs": [
    {
     "data": {
      "text/plain": [
       "(101.97409267945186, 3.181259956376565)"
      ]
     },
     "metadata": {},
     "output_type": "display_data"
    }
   ],
   "source": [
    "func = x -> costFunc(sys, x) + 5*quadPenalty(sys, x)\n",
    "# x_elite, x_push = crossEntropy(sys, func, 3, 10, 100, 10, 3)\n",
    "# x_legal, x_legalpush = crossEntropy(sys, func, 3, 10, 100, 10, 3)\n",
    "# x_push\n",
    "# x_legal\n",
    "\n",
    "l, p = crossEntropy(sys, func, 3, 10, 100, 10, 3)\n",
    "p\n"
   ]
  }
 ],
 "metadata": {
  "kernelspec": {
   "display_name": "Julia 1.9.3",
   "language": "julia",
   "name": "julia-1.9"
  },
  "language_info": {
   "file_extension": ".jl",
   "mimetype": "application/julia",
   "name": "julia",
   "version": "1.9.3"
  }
 },
 "nbformat": 4,
 "nbformat_minor": 2
}
