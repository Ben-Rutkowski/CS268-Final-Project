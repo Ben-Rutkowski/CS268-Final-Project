{
 "cells": [
  {
   "cell_type": "code",
   "execution_count": 138,
   "metadata": {},
   "outputs": [
    {
     "data": {
      "text/plain": [
       "crossEntropy (generic function with 4 methods)"
      ]
     },
     "metadata": {},
     "output_type": "display_data"
    }
   ],
   "source": [
    "include(\"/Users/benjaminrutkowski/School Code Projects/CS268-Final-Project/Cross_Entropy/cross_entropy.jl\")"
   ]
  },
  {
   "cell_type": "code",
   "execution_count": 139,
   "metadata": {},
   "outputs": [],
   "source": [
    "# ================ TEST MODEL ================\n",
    "using Distributions\n",
    "using LinearAlgebra\n",
    "Nodes = [\n",
    "    1.0, 1.0, \n",
    "    1.0, 2.0, \n",
    "    2.0, 1.0, \n",
    "    2.0, 2.0,\n",
    "\n",
    "    3.0, 1.0,\n",
    "    5.0, 4.0,\n",
    "    6.0, 2.0,\n",
    "    2.0, 6.0\n",
    "];\n",
    "\n",
    "F = [4, 5, 10, 8, 2, 4, 2, 1];\n",
    "# F = [4, 5, 10, 8];\n",
    "c, f = 10, 5\n",
    "\n",
    "sys = DemandSystem(Nodes, F, c, f, 0.5);"
   ]
  },
  {
   "cell_type": "code",
   "execution_count": 171,
   "metadata": {},
   "outputs": [
    {
     "name": "stdout",
     "output_type": "stream",
     "text": [
      "193.29229298946632 0.7739232093014211\n"
     ]
    },
    {
     "data": {
      "text/plain": [
       "10-element Vector{Float64}:\n",
       " 1.8039089749240698\n",
       " 2.998094101138444\n",
       " 3.5975881797473255\n",
       " 3.1387399560721074\n",
       " 6.841262348222693\n",
       " 2.574731235745499\n",
       " 7.194970710659142\n",
       " 4.2872822214405435\n",
       " 8.656909883453807\n",
       " 3.0"
      ]
     },
     "metadata": {},
     "output_type": "display_data"
    }
   ],
   "source": [
    "# ================ GENERATING MODEL ================\n",
    "using Random\n",
    "N = 8    # Number of nodes\n",
    "c = 15.0 # Initial cost \n",
    "f = 10.0 # Scaling cost\n",
    "\n",
    "Random.seed!(10)\n",
    "Nodes = rand(Uniform(0.0, 10.0), 2*N)\n",
    "F     = rand(Uniform(0.0, 5.0), N)\n",
    "Random.seed!()\n",
    "\n",
    "sys = DemandSystem(Nodes, F, c, f, 0.3)\n",
    "\n",
    "# ================ TESTING THE CROSS ENTROPY METHOD ================\n",
    "func = x -> costFunc(sys, x) + 10*quadPenalty(sys, x)\n",
    "\n",
    "\n",
    "l, p = crossEntropy(sys, func, 3, 10, 3)\n",
    "println(costFunc(sys,l), \" \", quadPenalty(sys, l))\n",
    "l"
   ]
  },
  {
   "cell_type": "code",
   "execution_count": 141,
   "metadata": {},
   "outputs": [
    {
     "data": {
      "text/plain": [
       "crossEntropy (generic function with 4 methods)"
      ]
     },
     "metadata": {},
     "output_type": "display_data"
    }
   ],
   "source": [
    "include(\"/Users/benjaminrutkowski/School Code Projects/CS268-Final-Project/Cross_Entropy/cross_entropy.jl\")\n",
    "\n",
    "# pushToFeasible(sys, l)"
   ]
  }
 ],
 "metadata": {
  "kernelspec": {
   "display_name": "Julia 1.9.3",
   "language": "julia",
   "name": "julia-1.9"
  },
  "language_info": {
   "file_extension": ".jl",
   "mimetype": "application/julia",
   "name": "julia",
   "version": "1.9.3"
  }
 },
 "nbformat": 4,
 "nbformat_minor": 2
}
